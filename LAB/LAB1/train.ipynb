{
 "cells": [
  {
   "cell_type": "code",
   "execution_count": 1,
   "metadata": {
    "pycharm": {
     "name": "#%%\n"
    }
   },
   "outputs": [],
   "source": [
    "import os\n",
    "import os.path\n",
    "import csv\n",
    "import time\n",
    "import PIL\n",
    "import math\n",
    "from sklearn.model_selection import StratifiedShuffleSplit\n",
    "import torch\n",
    "import torch.nn as nn\n",
    "import torch.nn.functional as F\n",
    "import torch.nn.init as init\n",
    "import torch.optim as optim\n",
    "from torch.utils.data import Dataset, DataLoader\n",
    "from torchvision import datasets, transforms, models\n",
    "import numpy as np\n",
    "import matplotlib.pyplot as plt\n",
    "from PIL import Image\n",
    "from tqdm import tqdm\n",
    "import warnings\n",
    "warnings.filterwarnings('ignore')\n",
    "\n",
    "from ImageNet import *\n",
    "from CNN import *\n",
    "from ResNet import *\n",
    "from utils import *\n"
   ]
  },
  {
   "cell_type": "code",
   "execution_count": 2,
   "metadata": {},
   "outputs": [
    {
     "name": "stdout",
     "output_type": "stream",
     "text": [
      "Training on GPU\n"
     ]
    }
   ],
   "source": [
    "# Initialize dataset related parameters\n",
    "data_dir = './data'\n",
    "\n",
    "workers = 1\n",
    "batch_size = 64\n",
    "\n",
    "######################## task 3.1 ##########################\n",
    "\n",
    "max_epochs = 50\n",
    "lr = 0.001\n",
    "\n",
    "########################    END   ##########################\n",
    "\n",
    "\n",
    "gpu = torch.cuda.is_available()\n",
    "\n",
    "if gpu:\n",
    "    print('Training on GPU')\n",
    "else:\n",
    "    print('Training on CPU')"
   ]
  },
  {
   "cell_type": "code",
   "execution_count": 3,
   "metadata": {},
   "outputs": [],
   "source": [
    "transform2 = transforms.Compose([\n",
    "    transforms.ToTensor(),\n",
    "    transforms.Normalize([0.480, 0.448, 0.398], [0.272, 0.265, 0.274])\n",
    "])\n",
    "\n",
    "transform1 = transforms.RandomApply([\n",
    "    ######################## task 0.1 ##########################\n",
    "    transforms.RandomResizedCrop(64),\n",
    "    transforms.RandomHorizontalFlip(p=0.5)\n",
    "    \n",
    "])\n",
    "########################    END   ##########################\n",
    "\n",
    "# transform2 = transforms.ToTensor()"
   ]
  },
  {
   "cell_type": "code",
   "execution_count": 4,
   "metadata": {},
   "outputs": [
    {
     "name": "stdout",
     "output_type": "stream",
     "text": [
      "[91085 94451 25171 ... 91719 14797 81517] [31020 44828 57231 ... 91983 79905 70024]\n",
      "Training Dataset Length: 90000\n",
      "Validation Dataset Length: 10000\n",
      "Test Dataset Length: 10000\n"
     ]
    }
   ],
   "source": [
    "dataset = TinyImageNetDataset(data_dir+'/train', transform=transforms.Compose([transform1, transform2]))\n",
    "datasetForVal = TinyImageNetDataset(data_dir+'/train', transform=transforms.Compose([transform2]))\n",
    "labels = dataset.get_labels()\n",
    "\n",
    "sss = StratifiedShuffleSplit(n_splits=1, test_size=0.1, random_state=0)\n",
    "idx_tr, idx_val = next(sss.split(labels, labels))\n",
    "print(idx_tr, idx_val)\n",
    "\n",
    "dataset_tr = torch.utils.data.Subset(dataset, idx_tr)\n",
    "dataset_val = torch.utils.data.Subset(datasetForVal, idx_val)\n",
    "\n",
    "dataloader_tr = torch.utils.data.DataLoader(dataset_tr, batch_size=batch_size, shuffle=True, num_workers=workers)\n",
    "dataloader_val = torch.utils.data.DataLoader(dataset_val, batch_size=batch_size, shuffle=True, num_workers=workers)\n",
    "\n",
    "print('Training Dataset Length: ' + str(len(dataset_tr)))\n",
    "print('Validation Dataset Length: ' + str(len(dataset_val)))\n",
    "\n",
    "class_to_idx = dataset.get_class_to_idx()\n",
    "dataset_test = TinyImageNetTestDataset(data_dir+'/val', annot_filename = 'val_annotations.txt', class_to_idx = class_to_idx,transform=transform2)\n",
    "dataloader_test = torch.utils.data.DataLoader(dataset_test, batch_size=batch_size, shuffle=True, num_workers=workers)\n",
    "\n",
    "print('Test Dataset Length: ' + str(len(dataset_test)))"
   ]
  },
  {
   "cell_type": "code",
   "execution_count": 5,
   "metadata": {},
   "outputs": [],
   "source": [
    "model = CNN()\n",
    "model.apply(init_weights)\n",
    "if gpu:\n",
    "    model.cuda()\n",
    "\n",
    "######################## task 3.2 ##########################\n",
    "optimizer = optim.Adam(model.parameters(),lr=lr,weight_decay=1e-4)\n",
    "# optimizer = optim.SGD(model.parameters(), lr=0.01,momentum=0.9, weight_decay=1e-4)\n",
    "# scheduler = optim.lr_scheduler.ExponentialLR(optimizer, gamma=0.9)\n",
    "scheduler = optim.lr_scheduler.StepLR(optimizer, step_size=10, gamma=0.1)\n",
    "criterion = nn.CrossEntropyLoss()\n",
    "########################    END   ##########################\n",
    "\n",
    "model_filename = 'mymodel.pth'"
   ]
  },
  {
   "cell_type": "code",
   "execution_count": 6,
   "metadata": {},
   "outputs": [],
   "source": [
    "def train(dataloader, model, optimizer, criterion):\n",
    "    batch = 0\n",
    "    loss = 0.0\n",
    "    correct = 0.0\n",
    "\n",
    "    model.train()    \n",
    "    \n",
    "    with tqdm(total=len(dataloader.dataset), desc='train', leave=True, ncols=100, unit='B', unit_scale=True) as pbar:\n",
    "        for X, Y in dataloader:\n",
    "            if gpu:\n",
    "                X = X.cuda()\n",
    "                Y = Y.cuda()\n",
    "            optimizer.zero_grad()        \n",
    "            logits = model(X)\n",
    "            cur_loss = criterion(logits, Y)\n",
    "            cur_loss.backward()\n",
    "            optimizer.step()\n",
    "            loss += cur_loss.item()\n",
    "            pred = logits.argmax(dim = 1)\n",
    "            correct += pred.eq(Y).sum()\n",
    "            \n",
    "            pbar.update(dataloader.batch_size)\n",
    "\n",
    "    \n",
    "    loss = loss / float(len(dataloader.dataset))\n",
    "    accuracy = float(correct) / float(len(dataloader.dataset)) * 100\n",
    "    \n",
    "    return loss, accuracy"
   ]
  },
  {
   "cell_type": "code",
   "execution_count": 7,
   "metadata": {},
   "outputs": [],
   "source": [
    "def validate(dataloader, model, criterion):\n",
    "    \n",
    "    ######################## task 3.3 ##########################\n",
    "    batch = 0\n",
    "    loss = 0.0\n",
    "    correct = 0.0\n",
    "\n",
    "    model.eval()\n",
    "    \n",
    "    with torch.no_grad():\n",
    "    \n",
    "        with tqdm(total=len(dataloader.dataset), desc='val', leave=True, ncols=100, unit='B', unit_scale=True) as pbar:\n",
    "            for X, Y in dataloader:\n",
    "                if gpu:\n",
    "                    X = X.cuda()\n",
    "                    Y = Y.cuda()      \n",
    "                logits = model(X)\n",
    "                cur_loss = criterion(logits, Y)\n",
    "                loss += cur_loss.item()\n",
    "                pred = logits.argmax(dim = 1)\n",
    "                correct += pred.eq(Y).sum()\n",
    "\n",
    "                pbar.update(dataloader.batch_size)\n",
    "\n",
    "    \n",
    "    loss = loss / float(len(dataloader.dataset))\n",
    "    accuracy = float(correct) / float(len(dataloader.dataset)) * 100\n",
    "    \n",
    "\n",
    "    ########################    END   ##########################\n",
    "    \n",
    "    return loss, accuracy"
   ]
  },
  {
   "cell_type": "code",
   "execution_count": 8,
   "metadata": {},
   "outputs": [],
   "source": [
    "def test(model, dataloader):\n",
    "    \n",
    "    ######################## task 3.4 ##########################\n",
    "    batch = 0\n",
    "    loss = 0.0\n",
    "    correct = 0.0\n",
    "\n",
    "    model.eval()\n",
    "    \n",
    "    with torch.no_grad():\n",
    "    \n",
    "        with tqdm(total=len(dataloader.dataset), desc='val', leave=True, ncols=100, unit='B', unit_scale=True) as pbar:\n",
    "            for X, Y in dataloader:\n",
    "                if gpu:\n",
    "                    X = X.cuda()\n",
    "                    Y = Y.cuda()      \n",
    "                logits = model(X)\n",
    "                cur_loss = criterion(logits, Y)\n",
    "                loss += cur_loss.item()\n",
    "                pred = logits.argmax(dim = 1)\n",
    "                correct += pred.eq(Y).sum()\n",
    "\n",
    "                pbar.update(dataloader.batch_size)\n",
    "\n",
    "    \n",
    "    loss = loss / float(len(dataloader.dataset))\n",
    "    accuracy = float(correct) / float(len(dataloader.dataset)) * 100\n",
    "    \n",
    "\n",
    "    ########################    END   ##########################\n",
    "    \n",
    "    return pred, loss, accuracy\n"
   ]
  },
  {
   "cell_type": "code",
   "execution_count": 9,
   "metadata": {},
   "outputs": [],
   "source": [
    "def fit(dataloader_tr, dataloader_val, model, criterion, optimizer, max_epoch = 100, scheduler = None, filename = None, early_stop = True, patience = 10, resume = False):\n",
    "    start_epoch = 0\n",
    "    early_stop_counter = 0\n",
    "    min_loss_val = 1e10    \n",
    "    loss_tr_hist = []\n",
    "    loss_val_hist = []\n",
    "    accuracy_tr_hist = []\n",
    "    accuracy_val_hist = []\n",
    "\n",
    "    if resume == True:\n",
    "        if filename is None:\n",
    "            print('Please Provide File Name to load model')\n",
    "            return\n",
    "        start_epoch, model, optimizer, scheduler, early_stop_counter, loss_tr_hist, loss_val_hist, accuracy_tr_hist, accuracy_val_hist = load_model(filename, model, optimizer, scheduler, mode = 'train')\n",
    "        \n",
    "        \n",
    "    for epoch in range(start_epoch+1, max_epoch + 1):\n",
    "        print('epoch:' ,epoch)\n",
    "        t0 = time.time()\n",
    "\n",
    "        loss_tr, accuracy_tr = train(dataloader_tr, model, optimizer, criterion)\n",
    "        loss_tr_hist.append(loss_tr)\n",
    "        accuracy_tr_hist.append(accuracy_tr)\n",
    "\n",
    "        loss_val, accuracy_val = validate(dataloader_val, model, criterion)\n",
    "        loss_val_hist.append(loss_val)\n",
    "        accuracy_val_hist.append(accuracy_val)\n",
    "        \n",
    "        print('tr_acc:',accuracy_tr,'val_acc:',accuracy_val,'tr_loss:',loss_tr,'val_loss:',loss_val)\n",
    "        \n",
    "        if scheduler is not None:\n",
    "            scheduler.step(loss_val)\n",
    "\n",
    "        ######################## task 3.5 ##########################\n",
    "        if loss_val<min_loss_val:\n",
    "            save_model(filename, model, optimizer, scheduler, epoch, loss_tr_hist, loss_val_hist, accuracy_tr_hist, accuracy_val_hist, early_stop_counter)\n",
    "            early_stop_counter = 0\n",
    "            min_loss_val = loss_val\n",
    "        else:\n",
    "            early_stop_counter += 1\n",
    "            if early_stop_counter>patience:\n",
    "                print(f\"early stop in epoch:{epoch}\")\n",
    "                break\n",
    "        ########################    END   ##########################\n",
    "        \n",
    "    return loss_tr_hist, loss_val_hist, accuracy_tr_hist, accuracy_val_hist"
   ]
  },
  {
   "cell_type": "code",
   "execution_count": 10,
   "metadata": {},
   "outputs": [
    {
     "name": "stdout",
     "output_type": "stream",
     "text": [
      "epoch: 1\n"
     ]
    },
    {
     "name": "stderr",
     "output_type": "stream",
     "text": [
      "train: 90.0kB [00:52, 1.73kB/s]                                                                     \n",
      "val: 10.0kB [00:06, 1.59kB/s]                                                                       \n"
     ]
    },
    {
     "name": "stdout",
     "output_type": "stream",
     "text": [
      "tr_acc: 9.48 val_acc: 14.940000000000001 tr_loss: 0.06807518944210476 val_loss: 0.06112691266536713\n",
      "epoch: 2\n"
     ]
    },
    {
     "name": "stderr",
     "output_type": "stream",
     "text": [
      "train: 90.0kB [00:48, 1.84kB/s]                                                                     \n",
      "val: 10.0kB [00:06, 1.61kB/s]                                                                       \n"
     ]
    },
    {
     "name": "stdout",
     "output_type": "stream",
     "text": [
      "tr_acc: 19.295555555555556 val_acc: 19.02 tr_loss: 0.05654288742012448 val_loss: 0.05760667803287506\n",
      "epoch: 3\n"
     ]
    },
    {
     "name": "stderr",
     "output_type": "stream",
     "text": [
      "train: 90.0kB [00:49, 1.82kB/s]                                                                     \n",
      "val: 10.0kB [00:06, 1.59kB/s]                                                                       \n"
     ]
    },
    {
     "name": "stdout",
     "output_type": "stream",
     "text": [
      "tr_acc: 24.136666666666667 val_acc: 24.709999999999997 tr_loss: 0.05182343943383959 val_loss: 0.052215188932418825\n",
      "epoch: 4\n"
     ]
    },
    {
     "name": "stderr",
     "output_type": "stream",
     "text": [
      "train: 90.0kB [00:49, 1.83kB/s]                                                                     \n",
      "val: 10.0kB [00:06, 1.60kB/s]                                                                       \n"
     ]
    },
    {
     "name": "stdout",
     "output_type": "stream",
     "text": [
      "tr_acc: 28.12 val_acc: 26.63 tr_loss: 0.04846989277203878 val_loss: 0.05072258622646332\n",
      "epoch: 5\n"
     ]
    },
    {
     "name": "stderr",
     "output_type": "stream",
     "text": [
      "train: 90.0kB [00:49, 1.82kB/s]                                                                     \n",
      "val: 10.0kB [00:06, 1.59kB/s]                                                                       \n"
     ]
    },
    {
     "name": "stdout",
     "output_type": "stream",
     "text": [
      "tr_acc: 31.09444444444445 val_acc: 25.56 tr_loss: 0.04587271112336053 val_loss: 0.05252774021625519\n",
      "epoch: 6\n"
     ]
    },
    {
     "name": "stderr",
     "output_type": "stream",
     "text": [
      "train: 90.0kB [00:49, 1.82kB/s]                                                                     \n",
      "val: 10.0kB [00:06, 1.59kB/s]                                                                       \n"
     ]
    },
    {
     "name": "stdout",
     "output_type": "stream",
     "text": [
      "tr_acc: 33.84666666666667 val_acc: 29.32 tr_loss: 0.04374655004209942 val_loss: 0.048707715082168576\n",
      "epoch: 7\n"
     ]
    },
    {
     "name": "stderr",
     "output_type": "stream",
     "text": [
      "train: 90.0kB [00:49, 1.81kB/s]                                                                     \n",
      "val: 10.0kB [00:06, 1.62kB/s]                                                                       \n"
     ]
    },
    {
     "name": "stdout",
     "output_type": "stream",
     "text": [
      "tr_acc: 36.062222222222225 val_acc: 31.34 tr_loss: 0.041945845577451915 val_loss: 0.04679759740829468\n",
      "epoch: 8\n"
     ]
    },
    {
     "name": "stderr",
     "output_type": "stream",
     "text": [
      "train: 90.0kB [00:49, 1.83kB/s]                                                                     \n",
      "val: 10.0kB [00:06, 1.60kB/s]                                                                       \n"
     ]
    },
    {
     "name": "stdout",
     "output_type": "stream",
     "text": [
      "tr_acc: 38.114444444444445 val_acc: 31.6 tr_loss: 0.04028751565880245 val_loss: 0.04731757302284241\n",
      "epoch: 9\n"
     ]
    },
    {
     "name": "stderr",
     "output_type": "stream",
     "text": [
      "train: 90.0kB [00:49, 1.82kB/s]                                                                     \n",
      "val: 10.0kB [00:06, 1.55kB/s]                                                                       \n"
     ]
    },
    {
     "name": "stdout",
     "output_type": "stream",
     "text": [
      "tr_acc: 39.75111111111111 val_acc: 32.74 tr_loss: 0.03878901677661472 val_loss: 0.04571572456359863\n",
      "epoch: 10\n"
     ]
    },
    {
     "name": "stderr",
     "output_type": "stream",
     "text": [
      "train: 90.0kB [00:49, 1.81kB/s]                                                                     \n",
      "val: 10.0kB [00:06, 1.60kB/s]                                                                       \n"
     ]
    },
    {
     "name": "stdout",
     "output_type": "stream",
     "text": [
      "tr_acc: 41.71666666666667 val_acc: 32.83 tr_loss: 0.037357474209202664 val_loss: 0.04641964147090912\n",
      "epoch: 11\n"
     ]
    },
    {
     "name": "stderr",
     "output_type": "stream",
     "text": [
      "train: 90.0kB [00:49, 1.84kB/s]                                                                     \n",
      "val: 10.0kB [00:06, 1.60kB/s]                                                                       \n"
     ]
    },
    {
     "name": "stdout",
     "output_type": "stream",
     "text": [
      "tr_acc: 43.39 val_acc: 33.78 tr_loss: 0.035991838227378 val_loss: 0.04557709579467773\n",
      "epoch: 12\n"
     ]
    },
    {
     "name": "stderr",
     "output_type": "stream",
     "text": [
      "train: 90.0kB [00:49, 1.82kB/s]                                                                     \n",
      "val: 10.0kB [00:06, 1.58kB/s]                                                                       \n"
     ]
    },
    {
     "name": "stdout",
     "output_type": "stream",
     "text": [
      "tr_acc: 44.92777777777778 val_acc: 32.97 tr_loss: 0.034677357987562815 val_loss: 0.04683381953239441\n",
      "epoch: 13\n"
     ]
    },
    {
     "name": "stderr",
     "output_type": "stream",
     "text": [
      "train: 90.0kB [00:49, 1.82kB/s]                                                                     \n",
      "val: 10.0kB [00:06, 1.58kB/s]                                                                       \n"
     ]
    },
    {
     "name": "stdout",
     "output_type": "stream",
     "text": [
      "tr_acc: 46.80666666666667 val_acc: 33.25 tr_loss: 0.033316219788127474 val_loss: 0.04684669859409332\n",
      "epoch: 14\n"
     ]
    },
    {
     "name": "stderr",
     "output_type": "stream",
     "text": [
      "train: 90.0kB [00:49, 1.81kB/s]                                                                     \n",
      "val: 10.0kB [00:06, 1.61kB/s]                                                                       \n"
     ]
    },
    {
     "name": "stdout",
     "output_type": "stream",
     "text": [
      "tr_acc: 48.449999999999996 val_acc: 33.72 tr_loss: 0.03204247320757972 val_loss: 0.046425367522239684\n",
      "epoch: 15\n"
     ]
    },
    {
     "name": "stderr",
     "output_type": "stream",
     "text": [
      "train: 90.0kB [00:49, 1.83kB/s]                                                                     \n",
      "val: 10.0kB [00:06, 1.60kB/s]                                                                       "
     ]
    },
    {
     "name": "stdout",
     "output_type": "stream",
     "text": [
      "tr_acc: 50.14222222222222 val_acc: 33.589999999999996 tr_loss: 0.030820563503106434 val_loss: 0.04678108360767364\n",
      "early stop in epoch:15\n"
     ]
    },
    {
     "name": "stderr",
     "output_type": "stream",
     "text": [
      "\n"
     ]
    }
   ],
   "source": [
    "loss_tr_hist, loss_val_hist, accuracy_tr_hist, accuracy_val_hist = fit(\n",
    "    \n",
    "            ######################## task 3.6 ##########################\n",
    "    dataloader_tr, \n",
    "    dataloader_val,\n",
    "    model,\n",
    "    criterion,\n",
    "    optimizer,\n",
    "    max_epochs,\n",
    "    scheduler,\n",
    "    filename = model_filename,\n",
    "#     early_stop = False,\n",
    "    patience = 3\n",
    "    \n",
    "            ########################    END   ##########################\n",
    "            )"
   ]
  },
  {
   "cell_type": "code",
   "execution_count": 11,
   "metadata": {},
   "outputs": [
    {
     "name": "stderr",
     "output_type": "stream",
     "text": [
      "val: 10.0kB [00:07, 1.32kB/s]                                                                       "
     ]
    },
    {
     "name": "stdout",
     "output_type": "stream",
     "text": [
      "Test Loss:  0.0461  |  Test Accuracy: 33.4100\n"
     ]
    },
    {
     "name": "stderr",
     "output_type": "stream",
     "text": [
      "\n"
     ]
    }
   ],
   "source": [
    "model = CNN()\n",
    "model = load_model(model_filename, model, mode = 'test')\n",
    "if gpu:\n",
    "    model.cuda()\n",
    "pred, loss_test, accuracy_test = test(model, dataloader_test)\n",
    "print('Test Loss: {0:7.4f}  |  Test Accuracy: {1:7.4f}'.format(loss_test, accuracy_test))"
   ]
  },
  {
   "cell_type": "code",
   "execution_count": 12,
   "metadata": {},
   "outputs": [
    {
     "data": {
      "image/png": "[encoded data removed]",
      "text/plain": [
       "<Figure size 720x360 with 2 Axes>"
      ]
     },
     "metadata": {
      "needs_background": "light"
     },
     "output_type": "display_data"
    }
   ],
   "source": [
    "# plot training loss\n",
    "plot(loss_tr_hist, loss_val_hist, accuracy_tr_hist, accuracy_val_hist)"
   ]
  }
 ],
 "metadata": {
  "interpreter": {
   "hash": "553c9fd0f2e8de60f7c1e43887c8b5eb4e01ed43100aba3f2fe0931f36bb9abc"
  },
  "kernelspec": {
   "display_name": "Python 3",
   "language": "python",
   "name": "python3"
  },
  "language_info": {
   "codemirror_mode": {
    "name": "ipython",
    "version": 3
   },
   "file_extension": ".py",
   "mimetype": "text/x-python",
   "name": "python",
   "nbconvert_exporter": "python",
   "pygments_lexer": "ipython3",
   "version": "3.7.4"
  }
 },
 "nbformat": 4,
 "nbformat_minor": 2
}
